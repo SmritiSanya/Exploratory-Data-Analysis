{
  "cells": [
    {
      "cell_type": "markdown",
      "source": [
        "#Exploratory Data Analysis"
      ],
      "metadata": {
        "id": "choo7pc9cgCC"
      }
    },
    {
      "cell_type": "markdown",
      "source": [
        "Bestseller Books is the name of the dataset. It features column names like \"Book Title,\" \"Author,\" \"User Rating,\" \"Reviews,\" \"Rating,\" \"Price,\" \"Year,\" and \"Overall Sales.\" I attempted to visualise many factors using various visualisation approaches, as well as how each parameter contributes to overall book sales in different years."
      ],
      "metadata": {
        "id": "9m-7aQzYUSRs"
      }
    },
    {
      "cell_type": "code",
      "source": [
        "import pandas as pd\n",
        "import numpy as np\n",
        "import matplotlib.pyplot as plt\n",
        "import seaborn as sns"
      ],
      "metadata": {
        "id": "vUjTY6YjclN1"
      },
      "execution_count": null,
      "outputs": []
    },
    {
      "cell_type": "code",
      "source": [
        "df=pd.read_csv(\"Bestseller_Books-Dataset.csv\")\n",
        "df.head()"
      ],
      "metadata": {
        "id": "vOTGMPnDK5wY",
        "outputId": "64b3b678-57c7-4140-d5f4-6ca726ce5c79",
        "colab": {
          "base_uri": "https://localhost:8080/",
          "height": 320
        }
      },
      "execution_count": null,
      "outputs": [
        {
          "output_type": "execute_result",
          "data": {
            "text/plain": [
              "                                                Name  \\\n",
              "0                      10-Day Green Smoothie Cleanse   \n",
              "1                                  11/22/63: A Novel   \n",
              "2            12 Rules for Life: An Antidote to Chaos   \n",
              "3                             1984 (Signet Classics)   \n",
              "4  5,000 Awesome Facts (About Everything!) (Natio...   \n",
              "\n",
              "                     Author  User Rating  Reviews  Price    Year        Genre  \\\n",
              "0                  JJ Smith          4.7  17350.0    8.0  2016.0  Non Fiction   \n",
              "1              Stephen King          4.6   2052.0   22.0  2011.0      Fiction   \n",
              "2        Jordan B. Peterson          4.7  18979.0   15.0  2018.0  Non Fiction   \n",
              "3             George Orwell          4.7  21424.0    6.0  2017.0      Fiction   \n",
              "4  National Geographic Kids          4.8   7665.0   12.0  2019.0  Non Fiction   \n",
              "\n",
              "   User_Age User_Region  Overall_Sales  \n",
              "0        19   southwest       16884.92  \n",
              "1        18   southeast        1725.55  \n",
              "2        28   southeast        4449.46  \n",
              "3        33   northwest       21984.47  \n",
              "4        32   northwest        3866.86  "
            ],
            "text/html": [
              "\n",
              "  <div id=\"df-3efa3c59-d1dc-48bc-b6c3-910b78d371b4\">\n",
              "    <div class=\"colab-df-container\">\n",
              "      <div>\n",
              "<style scoped>\n",
              "    .dataframe tbody tr th:only-of-type {\n",
              "        vertical-align: middle;\n",
              "    }\n",
              "\n",
              "    .dataframe tbody tr th {\n",
              "        vertical-align: top;\n",
              "    }\n",
              "\n",
              "    .dataframe thead th {\n",
              "        text-align: right;\n",
              "    }\n",
              "</style>\n",
              "<table border=\"1\" class=\"dataframe\">\n",
              "  <thead>\n",
              "    <tr style=\"text-align: right;\">\n",
              "      <th></th>\n",
              "      <th>Name</th>\n",
              "      <th>Author</th>\n",
              "      <th>User Rating</th>\n",
              "      <th>Reviews</th>\n",
              "      <th>Price</th>\n",
              "      <th>Year</th>\n",
              "      <th>Genre</th>\n",
              "      <th>User_Age</th>\n",
              "      <th>User_Region</th>\n",
              "      <th>Overall_Sales</th>\n",
              "    </tr>\n",
              "  </thead>\n",
              "  <tbody>\n",
              "    <tr>\n",
              "      <th>0</th>\n",
              "      <td>10-Day Green Smoothie Cleanse</td>\n",
              "      <td>JJ Smith</td>\n",
              "      <td>4.7</td>\n",
              "      <td>17350.0</td>\n",
              "      <td>8.0</td>\n",
              "      <td>2016.0</td>\n",
              "      <td>Non Fiction</td>\n",
              "      <td>19</td>\n",
              "      <td>southwest</td>\n",
              "      <td>16884.92</td>\n",
              "    </tr>\n",
              "    <tr>\n",
              "      <th>1</th>\n",
              "      <td>11/22/63: A Novel</td>\n",
              "      <td>Stephen King</td>\n",
              "      <td>4.6</td>\n",
              "      <td>2052.0</td>\n",
              "      <td>22.0</td>\n",
              "      <td>2011.0</td>\n",
              "      <td>Fiction</td>\n",
              "      <td>18</td>\n",
              "      <td>southeast</td>\n",
              "      <td>1725.55</td>\n",
              "    </tr>\n",
              "    <tr>\n",
              "      <th>2</th>\n",
              "      <td>12 Rules for Life: An Antidote to Chaos</td>\n",
              "      <td>Jordan B. Peterson</td>\n",
              "      <td>4.7</td>\n",
              "      <td>18979.0</td>\n",
              "      <td>15.0</td>\n",
              "      <td>2018.0</td>\n",
              "      <td>Non Fiction</td>\n",
              "      <td>28</td>\n",
              "      <td>southeast</td>\n",
              "      <td>4449.46</td>\n",
              "    </tr>\n",
              "    <tr>\n",
              "      <th>3</th>\n",
              "      <td>1984 (Signet Classics)</td>\n",
              "      <td>George Orwell</td>\n",
              "      <td>4.7</td>\n",
              "      <td>21424.0</td>\n",
              "      <td>6.0</td>\n",
              "      <td>2017.0</td>\n",
              "      <td>Fiction</td>\n",
              "      <td>33</td>\n",
              "      <td>northwest</td>\n",
              "      <td>21984.47</td>\n",
              "    </tr>\n",
              "    <tr>\n",
              "      <th>4</th>\n",
              "      <td>5,000 Awesome Facts (About Everything!) (Natio...</td>\n",
              "      <td>National Geographic Kids</td>\n",
              "      <td>4.8</td>\n",
              "      <td>7665.0</td>\n",
              "      <td>12.0</td>\n",
              "      <td>2019.0</td>\n",
              "      <td>Non Fiction</td>\n",
              "      <td>32</td>\n",
              "      <td>northwest</td>\n",
              "      <td>3866.86</td>\n",
              "    </tr>\n",
              "  </tbody>\n",
              "</table>\n",
              "</div>\n",
              "      <button class=\"colab-df-convert\" onclick=\"convertToInteractive('df-3efa3c59-d1dc-48bc-b6c3-910b78d371b4')\"\n",
              "              title=\"Convert this dataframe to an interactive table.\"\n",
              "              style=\"display:none;\">\n",
              "        \n",
              "  <svg xmlns=\"http://www.w3.org/2000/svg\" height=\"24px\"viewBox=\"0 0 24 24\"\n",
              "       width=\"24px\">\n",
              "    <path d=\"M0 0h24v24H0V0z\" fill=\"none\"/>\n",
              "    <path d=\"M18.56 5.44l.94 2.06.94-2.06 2.06-.94-2.06-.94-.94-2.06-.94 2.06-2.06.94zm-11 1L8.5 8.5l.94-2.06 2.06-.94-2.06-.94L8.5 2.5l-.94 2.06-2.06.94zm10 10l.94 2.06.94-2.06 2.06-.94-2.06-.94-.94-2.06-.94 2.06-2.06.94z\"/><path d=\"M17.41 7.96l-1.37-1.37c-.4-.4-.92-.59-1.43-.59-.52 0-1.04.2-1.43.59L10.3 9.45l-7.72 7.72c-.78.78-.78 2.05 0 2.83L4 21.41c.39.39.9.59 1.41.59.51 0 1.02-.2 1.41-.59l7.78-7.78 2.81-2.81c.8-.78.8-2.07 0-2.86zM5.41 20L4 18.59l7.72-7.72 1.47 1.35L5.41 20z\"/>\n",
              "  </svg>\n",
              "      </button>\n",
              "      \n",
              "  <style>\n",
              "    .colab-df-container {\n",
              "      display:flex;\n",
              "      flex-wrap:wrap;\n",
              "      gap: 12px;\n",
              "    }\n",
              "\n",
              "    .colab-df-convert {\n",
              "      background-color: #E8F0FE;\n",
              "      border: none;\n",
              "      border-radius: 50%;\n",
              "      cursor: pointer;\n",
              "      display: none;\n",
              "      fill: #1967D2;\n",
              "      height: 32px;\n",
              "      padding: 0 0 0 0;\n",
              "      width: 32px;\n",
              "    }\n",
              "\n",
              "    .colab-df-convert:hover {\n",
              "      background-color: #E2EBFA;\n",
              "      box-shadow: 0px 1px 2px rgba(60, 64, 67, 0.3), 0px 1px 3px 1px rgba(60, 64, 67, 0.15);\n",
              "      fill: #174EA6;\n",
              "    }\n",
              "\n",
              "    [theme=dark] .colab-df-convert {\n",
              "      background-color: #3B4455;\n",
              "      fill: #D2E3FC;\n",
              "    }\n",
              "\n",
              "    [theme=dark] .colab-df-convert:hover {\n",
              "      background-color: #434B5C;\n",
              "      box-shadow: 0px 1px 3px 1px rgba(0, 0, 0, 0.15);\n",
              "      filter: drop-shadow(0px 1px 2px rgba(0, 0, 0, 0.3));\n",
              "      fill: #FFFFFF;\n",
              "    }\n",
              "  </style>\n",
              "\n",
              "      <script>\n",
              "        const buttonEl =\n",
              "          document.querySelector('#df-3efa3c59-d1dc-48bc-b6c3-910b78d371b4 button.colab-df-convert');\n",
              "        buttonEl.style.display =\n",
              "          google.colab.kernel.accessAllowed ? 'block' : 'none';\n",
              "\n",
              "        async function convertToInteractive(key) {\n",
              "          const element = document.querySelector('#df-3efa3c59-d1dc-48bc-b6c3-910b78d371b4');\n",
              "          const dataTable =\n",
              "            await google.colab.kernel.invokeFunction('convertToInteractive',\n",
              "                                                     [key], {});\n",
              "          if (!dataTable) return;\n",
              "\n",
              "          const docLinkHtml = 'Like what you see? Visit the ' +\n",
              "            '<a target=\"_blank\" href=https://colab.research.google.com/notebooks/data_table.ipynb>data table notebook</a>'\n",
              "            + ' to learn more about interactive tables.';\n",
              "          element.innerHTML = '';\n",
              "          dataTable['output_type'] = 'display_data';\n",
              "          await google.colab.output.renderOutput(dataTable, element);\n",
              "          const docLink = document.createElement('div');\n",
              "          docLink.innerHTML = docLinkHtml;\n",
              "          element.appendChild(docLink);\n",
              "        }\n",
              "      </script>\n",
              "    </div>\n",
              "  </div>\n",
              "  "
            ]
          },
          "metadata": {},
          "execution_count": 19
        }
      ]
    },
    {
      "cell_type": "code",
      "source": [
        "df.info()"
      ],
      "metadata": {
        "id": "u2n4ES-nK86-",
        "colab": {
          "base_uri": "https://localhost:8080/"
        },
        "outputId": "6f533dc4-9a9f-4929-b244-63c1bd29bb86"
      },
      "execution_count": null,
      "outputs": [
        {
          "output_type": "stream",
          "name": "stdout",
          "text": [
            "<class 'pandas.core.frame.DataFrame'>\n",
            "RangeIndex: 1338 entries, 0 to 1337\n",
            "Data columns (total 10 columns):\n",
            " #   Column         Non-Null Count  Dtype  \n",
            "---  ------         --------------  -----  \n",
            " 0   Name           550 non-null    object \n",
            " 1   Author         550 non-null    object \n",
            " 2   User Rating    550 non-null    float64\n",
            " 3   Reviews        550 non-null    float64\n",
            " 4   Price          550 non-null    float64\n",
            " 5   Year           550 non-null    float64\n",
            " 6   Genre          550 non-null    object \n",
            " 7   User_Age       1338 non-null   int64  \n",
            " 8   User_Region    1338 non-null   object \n",
            " 9   Overall_Sales  1338 non-null   float64\n",
            "dtypes: float64(5), int64(1), object(4)\n",
            "memory usage: 104.7+ KB\n"
          ]
        }
      ]
    },
    {
      "cell_type": "markdown",
      "source": [
        "#Measures of Central Tendency"
      ],
      "metadata": {
        "id": "XncpSbtz-OHD"
      }
    },
    {
      "cell_type": "markdown",
      "source": [
        "MEAN: The sum of a collection of numbers divided by the count of numbers in the collection\n",
        "\n",
        "MEDIAN: The median is the middle number in a sorted, ascending or descending list of numbers and can bemore descriptive of that data set than the average.\n",
        "\n",
        "MODE:The mode is the value that appears most frequently in a data set. A set of data may have one mode,more than one mode, or no mode at all."
      ],
      "metadata": {
        "id": "7OfoGvvdLJrG"
      }
    },
    {
      "cell_type": "code",
      "source": [
        "print(\"Price\",df[\"Price\"].mean())\n",
        "print(\"User_Age\",df[\"User_Age\"].mean())\n",
        "print(\"User Rating\",df[\"User Rating\"].mean())"
      ],
      "metadata": {
        "id": "VqYILDmpLEvA",
        "outputId": "478c072c-5867-48a0-f560-f4efff645f6d",
        "colab": {
          "base_uri": "https://localhost:8080/"
        }
      },
      "execution_count": null,
      "outputs": [
        {
          "output_type": "stream",
          "name": "stdout",
          "text": [
            "Price 13.1\n",
            "User_Age 39.20702541106129\n",
            "User Rating 4.618363636363636\n"
          ]
        }
      ]
    },
    {
      "cell_type": "code",
      "source": [
        "print(\"Price\",df[\"Price\"].median())\n",
        "print(\"User_Age\",df[\"User_Age\"].median())\n",
        "print(\"User Rating\",df[\"User Rating\"].median())"
      ],
      "metadata": {
        "id": "iyqLc0zULSam",
        "outputId": "707456f4-0571-4832-e0f9-d832eb52451b",
        "colab": {
          "base_uri": "https://localhost:8080/"
        }
      },
      "execution_count": null,
      "outputs": [
        {
          "output_type": "stream",
          "name": "stdout",
          "text": [
            "Price 11.0\n",
            "User_Age 39.0\n",
            "User Rating 4.7\n"
          ]
        }
      ]
    },
    {
      "cell_type": "code",
      "source": [
        "print(df[\"Price\"].mode())\n",
        "print(df[\"User_Age\"].mode())\n",
        "print(df[\"User Rating\"].mode())"
      ],
      "metadata": {
        "id": "bFwIUAWFLcS_",
        "outputId": "0202642d-1086-4ad7-c0f3-891c3161e5d7",
        "colab": {
          "base_uri": "https://localhost:8080/"
        }
      },
      "execution_count": null,
      "outputs": [
        {
          "output_type": "stream",
          "name": "stdout",
          "text": [
            "0    8.0\n",
            "dtype: float64\n",
            "0    18\n",
            "dtype: int64\n",
            "0    4.8\n",
            "dtype: float64\n"
          ]
        }
      ]
    },
    {
      "cell_type": "markdown",
      "source": [
        "MIN,MAX VLAUES\n"
      ],
      "metadata": {
        "id": "zoOrM4ypLizV"
      }
    },
    {
      "cell_type": "code",
      "source": [
        "print(min(df[\"Price\"]))\n",
        "print(min(df[\"User_Age\"]))\n",
        "print(min(df[\"User Rating\"]))"
      ],
      "metadata": {
        "id": "559J4R0lLlqm",
        "outputId": "9274ecb2-5a8d-431f-8834-4a174bdd41ba",
        "colab": {
          "base_uri": "https://localhost:8080/"
        }
      },
      "execution_count": null,
      "outputs": [
        {
          "output_type": "stream",
          "name": "stdout",
          "text": [
            "0.0\n",
            "18\n",
            "3.3\n"
          ]
        }
      ]
    },
    {
      "cell_type": "code",
      "source": [
        "print(max(df[\"Price\"]))\n",
        "print(max(df[\"User_Age\"]))\n",
        "print(max(df[\"User Rating\"]))"
      ],
      "metadata": {
        "id": "E6ycg321MOmO",
        "outputId": "8f8731ce-4f30-46d0-f112-43ffe78ca157",
        "colab": {
          "base_uri": "https://localhost:8080/"
        }
      },
      "execution_count": null,
      "outputs": [
        {
          "output_type": "stream",
          "name": "stdout",
          "text": [
            "105.0\n",
            "64\n",
            "4.9\n"
          ]
        }
      ]
    },
    {
      "cell_type": "markdown",
      "source": [
        "# Measures of Dispersion\n"
      ],
      "metadata": {
        "id": "GTCQFJLr_CQf"
      }
    },
    {
      "cell_type": "markdown",
      "source": [
        "STANDARD DEVIATION"
      ],
      "metadata": {
        "id": "AO5i8-HoMgYP"
      }
    },
    {
      "cell_type": "markdown",
      "source": [
        "Standard deviation (SD) is the most commonly used measure of dispersion. It is a measure ofspread of data about the mean. SD is the square root of sum of squared deviation from the meandivided by the number of observations. This formula is a definitional one and for calculations, aneasier formula is used."
      ],
      "metadata": {
        "id": "SP501Lro_PXf"
      }
    },
    {
      "cell_type": "code",
      "source": [
        "import statistics as st\n",
        "print(st.stdev(df[\"User_Age\"]))"
      ],
      "metadata": {
        "id": "7XSiJvX0MizU",
        "outputId": "ff9e9a6e-e51b-4dc3-b692-c0941c0428a2",
        "colab": {
          "base_uri": "https://localhost:8080/"
        }
      },
      "execution_count": null,
      "outputs": [
        {
          "output_type": "stream",
          "name": "stdout",
          "text": [
            "14.049960379216156\n"
          ]
        }
      ]
    },
    {
      "cell_type": "markdown",
      "source": [
        "#Data Visualization"
      ],
      "metadata": {
        "id": "DMrc6anI_MAL"
      }
    },
    {
      "cell_type": "markdown",
      "source": [
        "HISTOGRAM"
      ],
      "metadata": {
        "id": "M4lWoyK9NWbs"
      }
    },
    {
      "cell_type": "markdown",
      "source": [
        "A histogram is a graphical representation of the distribution of data. The histogram is representedby a set of rectangles, adjacent to each other, where each bar represent a kind of data. Statistics isa stream of mathematics that is applied in various fields. When numerals are repeated in statisticaldata, this repetition is known as Frequency and which can be written in the form of a table, called a Frequency distribution can be shown graphically by using different typesof graphs and a Histogram is one among them."
      ],
      "metadata": {
        "id": "NcJ3dU5R_jh0"
      }
    },
    {
      "cell_type": "code",
      "source": [
        "sns.histplot(df[\"User Rating\"])\n",
        "sns.histplot(df[\"User Rating\"])"
      ],
      "metadata": {
        "id": "b-L9hwnENXoq",
        "outputId": "c686d56c-4ef6-47d3-b683-61a40edf7cd6",
        "colab": {
          "base_uri": "https://localhost:8080/",
          "height": 296
        }
      },
      "execution_count": null,
      "outputs": [
        {
          "output_type": "execute_result",
          "data": {
            "text/plain": [
              "<matplotlib.axes._subplots.AxesSubplot at 0x7fde6f443510>"
            ]
          },
          "metadata": {},
          "execution_count": 27
        },
        {
          "output_type": "display_data",
          "data": {
            "text/plain": [
              "<Figure size 432x288 with 1 Axes>"
            ],
            "image/png": "[encoded data removed]"
          },
          "metadata": {
            "needs_background": "light"
          }
        }
      ]
    },
    {
      "cell_type": "markdown",
      "source": [
        "INFERENCE: The most common user rating is 4.8 (mode function), which more than 120 users have provided, while the maximum user rating is 4.9 (max function used above)."
      ],
      "metadata": {
        "id": "Dex02LCnqw58"
      }
    },
    {
      "cell_type": "markdown",
      "source": [
        "BOX PLOT"
      ],
      "metadata": {
        "id": "TGHjfB-lNZ8L"
      }
    },
    {
      "cell_type": "markdown",
      "source": [
        "A box plot is defined as a graphical method of displaying variation in a set of data. In most cases, a histogram analysis provides a sufficient display, but a box can provide additional detail while allowing multiple sets of data to be displayed in the same graph.It is  particularly useful when we want to check for outliers. It shows the presence of outliers which in some studies are the key points and in others, will have to be discarded."
      ],
      "metadata": {
        "id": "EuMNGRSw_0Eu"
      }
    },
    {
      "cell_type": "code",
      "source": [
        "plt.boxplot(df[\"User_Age\"])\n",
        "plt.show()"
      ],
      "metadata": {
        "id": "wMbu-IuANb2Q",
        "outputId": "eb50e43e-2267-4ebd-83c9-8ee9f01ba34f",
        "colab": {
          "base_uri": "https://localhost:8080/",
          "height": 265
        }
      },
      "execution_count": null,
      "outputs": [
        {
          "output_type": "display_data",
          "data": {
            "text/plain": [
              "<Figure size 432x288 with 1 Axes>"
            ],
            "image/png": "[encoded data removed]"
          },
          "metadata": {
            "needs_background": "light"
          }
        }
      ]
    },
    {
      "cell_type": "code",
      "source": [
        "sns.boxplot(df[\"User_Age\"])"
      ],
      "metadata": {
        "id": "fCtXSoHqN4dv",
        "outputId": "36f7156c-f70b-4d70-c858-84f6a0ff2ad0",
        "colab": {
          "base_uri": "https://localhost:8080/",
          "height": 352
        }
      },
      "execution_count": null,
      "outputs": [
        {
          "output_type": "stream",
          "name": "stderr",
          "text": [
            "/usr/local/lib/python3.7/dist-packages/seaborn/_decorators.py:43: FutureWarning: Pass the following variable as a keyword arg: x. From version 0.12, the only valid positional argument will be `data`, and passing other arguments without an explicit keyword will result in an error or misinterpretation.\n",
            "  FutureWarning\n"
          ]
        },
        {
          "output_type": "execute_result",
          "data": {
            "text/plain": [
              "<matplotlib.axes._subplots.AxesSubplot at 0x7fde6f3b9b50>"
            ]
          },
          "metadata": {},
          "execution_count": 28
        },
        {
          "output_type": "display_data",
          "data": {
            "text/plain": [
              "<Figure size 432x288 with 1 Axes>"
            ],
            "image/png": "[encoded data removed]"
          },
          "metadata": {
            "needs_background": "light"
          }
        }
      ]
    },
    {
      "cell_type": "markdown",
      "source": [
        "Distribution plot"
      ],
      "metadata": {
        "id": "971NsVwQNzhm"
      }
    },
    {
      "cell_type": "code",
      "source": [
        "sns.displot(data=df['User Rating'], x=df['User_Region'])"
      ],
      "metadata": {
        "id": "mpVXJSO6OFwn",
        "outputId": "d34ccf37-9551-4f76-83eb-8ee061bc3c52",
        "colab": {
          "base_uri": "https://localhost:8080/",
          "height": 386
        }
      },
      "execution_count": null,
      "outputs": [
        {
          "output_type": "execute_result",
          "data": {
            "text/plain": [
              "<seaborn.axisgrid.FacetGrid at 0x7fde709eec50>"
            ]
          },
          "metadata": {},
          "execution_count": 29
        },
        {
          "output_type": "display_data",
          "data": {
            "text/plain": [
              "<Figure size 360x360 with 1 Axes>"
            ],
            "image/png": "[encoded data removed]"
          },
          "metadata": {
            "needs_background": "light"
          }
        }
      ]
    },
    {
      "cell_type": "markdown",
      "source": [
        "INFERENCE: This distribution map indicates us where the user comes from; in our sample, the majority of users comes from the southeast."
      ],
      "metadata": {
        "id": "eRC8fvbJrgWN"
      }
    },
    {
      "cell_type": "markdown",
      "source": [
        "BAR CHART"
      ],
      "metadata": {
        "id": "t2drgWV4ORex"
      }
    },
    {
      "cell_type": "markdown",
      "source": [
        "A bar plot or bar chart is a graph that represents the category of data with rectangular bars withlengths and heights that is proportional to the values which they represent. The bar plots can beplotted horizontally or vertically. A bar chart describes the comparisons between the discretecategories. One of the axis of the plot represents the specific categories being compared, while theother axis represents the measured values corresponding to those categories."
      ],
      "metadata": {
        "id": "kVUvml4rAKPD"
      }
    },
    {
      "cell_type": "code",
      "source": [
        "fig = plt.figure(figsize = (10, 5))\n",
        "plt.bar(x=df[\"Year\"], height=df[\"Overall_Sales\"], color ='maroon')\n",
        " \n",
        "plt.xlabel(\"Year\")\n",
        "plt.ylabel(\"Overall Sales\")\n",
        "plt.title(\"Sale in every year\")\n",
        "plt.show()"
      ],
      "metadata": {
        "id": "hdWqwstBORFV",
        "outputId": "9c5c6319-7e58-4109-d598-de66e282fb6d",
        "colab": {
          "base_uri": "https://localhost:8080/",
          "height": 350
        }
      },
      "execution_count": null,
      "outputs": [
        {
          "output_type": "display_data",
          "data": {
            "text/plain": [
              "<Figure size 720x360 with 1 Axes>"
            ],
            "image/png": "[encoded data removed]"
          },
          "metadata": {
            "needs_background": "light"
          }
        }
      ]
    },
    {
      "cell_type": "markdown",
      "source": [
        "INFERENCE: Looking at the bar graph, the maximum sales took place in teh year 2016 and the minimum in the year 2014"
      ],
      "metadata": {
        "id": "r2ls5NPFqai8"
      }
    },
    {
      "cell_type": "markdown",
      "source": [
        "SCATTER PLOTS"
      ],
      "metadata": {
        "id": "MQ2WDxADvzcd"
      }
    },
    {
      "cell_type": "markdown",
      "source": [
        "A scatter plot uses dots to represent values for two different numeric variables. The position of each dot on the horizontal and vertical axis indicates values for an individual data point."
      ],
      "metadata": {
        "id": "GtMk-rlQAswf"
      }
    },
    {
      "cell_type": "code",
      "source": [
        "sns.scatterplot(x=df[\"User Rating\"],\n",
        "                    y=df[\"Year\"])"
      ],
      "metadata": {
        "colab": {
          "base_uri": "https://localhost:8080/",
          "height": 296
        },
        "id": "CrSNUPdzv05G",
        "outputId": "9c914b78-6e64-4cfc-f0bd-1f2d27748d76"
      },
      "execution_count": null,
      "outputs": [
        {
          "output_type": "execute_result",
          "data": {
            "text/plain": [
              "<matplotlib.axes._subplots.AxesSubplot at 0x7fde70eb3910>"
            ]
          },
          "metadata": {},
          "execution_count": 45
        },
        {
          "output_type": "display_data",
          "data": {
            "text/plain": [
              "<Figure size 432x288 with 1 Axes>"
            ],
            "image/png": "[encoded data removed]"
          },
          "metadata": {
            "needs_background": "light"
          }
        }
      ]
    },
    {
      "cell_type": "markdown",
      "source": [
        "INFERENCE: The scatter plot shows how the users have rated books in different years"
      ],
      "metadata": {
        "id": "mduxcpOrwLQ8"
      }
    },
    {
      "cell_type": "markdown",
      "source": [
        "CORRELATION MATRIX"
      ],
      "metadata": {
        "id": "-6DH-KGvSM2O"
      }
    },
    {
      "cell_type": "markdown",
      "source": [
        "A correlation matrix is simply a table which displays the correlation coefficients for different variables. The matrix depicts the correlation between all the possible pairs of values in a table."
      ],
      "metadata": {
        "id": "2CvOtnbWAyF5"
      }
    },
    {
      "cell_type": "code",
      "source": [
        "matrix = df.corr()\n",
        "print(\"Correlation matrix is : \")\n",
        "print(matrix)\n",
        "dataplot = sns.heatmap(df.corr(), cmap=\"YlGnBu\", annot=True)"
      ],
      "metadata": {
        "colab": {
          "base_uri": "https://localhost:8080/",
          "height": 605
        },
        "id": "j212kR9gSPEU",
        "outputId": "7e39567d-f63a-41a1-9d71-a191c04212de"
      },
      "execution_count": null,
      "outputs": [
        {
          "output_type": "stream",
          "name": "stdout",
          "text": [
            "Correlation matrix is : \n",
            "               User Rating   Reviews     Price      Year  User_Age  \\\n",
            "User Rating       1.000000 -0.001729 -0.133086  0.242383  0.042704   \n",
            "Reviews          -0.001729  1.000000 -0.109182  0.263560 -0.018186   \n",
            "Price            -0.133086 -0.109182  1.000000 -0.153979 -0.010635   \n",
            "Year              0.242383  0.263560 -0.153979  1.000000  0.036443   \n",
            "User_Age          0.042704 -0.018186 -0.010635  0.036443  1.000000   \n",
            "Overall_Sales     0.081815 -0.098861  0.037665  0.040552  0.299008   \n",
            "\n",
            "               Overall_Sales  \n",
            "User Rating         0.081815  \n",
            "Reviews            -0.098861  \n",
            "Price               0.037665  \n",
            "Year                0.040552  \n",
            "User_Age            0.299008  \n",
            "Overall_Sales       1.000000  \n"
          ]
        },
        {
          "output_type": "display_data",
          "data": {
            "text/plain": [
              "<Figure size 432x288 with 2 Axes>"
            ],
            "image/png": "[encoded data removed]"
          },
          "metadata": {
            "needs_background": "light"
          }
        }
      ]
    },
    {
      "cell_type": "markdown",
      "source": [
        "INFERENCE: This illustrates the correlation between multiple factors, with the diagonal equal to 1 indicating the correlation of a factoer with itself. The hue of the matrix darkens as the correlation between factors grows.\n"
      ],
      "metadata": {
        "id": "JzO9YBm1qSzp"
      }
    }
  ],
  "metadata": {
    "colab": {
      "provenance": []
    },
    "kernelspec": {
      "display_name": "Python 3",
      "name": "python3"
    }
  },
  "nbformat": 4,
  "nbformat_minor": 0
}